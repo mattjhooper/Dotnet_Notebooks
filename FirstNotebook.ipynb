{
 "metadata": {
  "kernelspec": {
   "display_name": ".NET (C#)",
   "language": "C#",
   "name": ".net-csharp"
  },
  "language_info": {
   "name": "C#"
  }
 },
 "cells": [
  {
   "cell_type": "code",
   "execution_count": null,
   "source": [
    "var names = new List<string>();\r\n",
    "names.Add(\"Matthew\");\r\n",
    "names.Add(\"Mark\");\r\n",
    "names.Add(\"Luke\");\r\n",
    "names.Add(\"John\");\r\n",
    "\r\n",
    "foreach(var name in names)\r\n",
    "{\r\n",
    "    Console.WriteLine($\"Is {name}\");    \r\n",
    "}\r\n"
   ],
   "outputs": [],
   "metadata": {
    "dotnet_interactive": {
     "language": "csharp"
    }
   }
  },
  {
   "cell_type": "code",
   "execution_count": null,
   "source": [
    "double Average(IEnumerable<int> numbers)\r\n",
    "{\r\n",
    "    return numbers.Sum() / numbers.Count();\r\n",
    "    //return numbers.Average();\r\n",
    "}\r\n",
    "\r\n",
    "Console.WriteLine(Average(new int[] {1, 2,2, 3, 3 }))"
   ],
   "outputs": [],
   "metadata": {
    "dotnet_interactive": {
     "language": "csharp"
    }
   }
  },
  {
   "cell_type": "code",
   "execution_count": null,
   "source": [
    "interface Holder\r\n",
    "{\r\n",
    "    public int val { get; }\r\n",
    "}\r\n",
    "\r\n",
    "class Counter\r\n",
    "{\r\n",
    "    private readonly Holder i; \r\n",
    "\r\n",
    "    public int GetI()\r\n",
    "    {\r\n",
    "        return i.val;\r\n",
    "    }\r\n",
    "}\r\n",
    "\r\n",
    "var myCounter = new Counter();\r\n",
    "Console.WriteLine(myCounter.GetI());"
   ],
   "outputs": [],
   "metadata": {
    "dotnet_interactive": {
     "language": "csharp"
    }
   }
  },
  {
   "cell_type": "code",
   "execution_count": null,
   "source": [
    "[Flags] // indicates bitwise operations occur on this enum\r\n",
    "public enum DaysOfWeek : byte // byte type to limit size\r\n",
    "{\r\n",
    "    Sunday = 1,\r\n",
    "    Monday = 2,\r\n",
    "    Tuesday = 4,\r\n",
    "    Wednesday = 8,\r\n",
    "    Thursday = 16,\r\n",
    "    Friday = 32,\r\n",
    "    Saturday = 64,\r\n",
    "    Weekend = Sunday \",\" Saturday,\r\n",
    "    Weekdays = Monday \",\" Tuesday \",\" Wednesday \",\" Thursday \",\" Friday\r\n",
    "}\r\n",
    "\r\n",
    "public static class DaysOfWeekEvaluator\r\n",
    "{\r\n",
    "    public static bool IsWeekends(DaysOfWeek days)\r\n",
    "    {\r\n",
    "        return (days & DaysOfWeek.Weekend) == DaysOfWeek.Weekend;\r\n",
    "    }\r\n",
    "\r\n",
    "    public static bool IsAllWeekdays(DaysOfWeek days)\r\n",
    "    {\r\n",
    "        return (days & DaysOfWeek.Weekdays) == DaysOfWeek.Weekdays;\r\n",
    "    }\r\n",
    "\r\n",
    "    public static bool HasWeekdays(DaysOfWeek days)\r\n",
    "    {\r\n",
    "        return ((int) (days & DaysOfWeek.Weekdays)) > 0;\r\n",
    "    }\r\n",
    "\r\n",
    "    public static bool HasWeekendDays(DaysOfWeek days)\r\n",
    "    {\r\n",
    "        return ((int) (days & DaysOfWeek.Weekend)) > 0;\r\n",
    "    }\r\n",
    "}\r\n",
    "\r\n",
    "Console.WriteLine(DaysOfWeekEvaluator.IsWeekends(DaysOfWeek.Saturday & DaysOfWeek.Sunday));"
   ],
   "outputs": [],
   "metadata": {
    "dotnet_interactive": {
     "language": "csharp"
    }
   }
  },
  {
   "cell_type": "code",
   "execution_count": null,
   "source": [
    "string Disemvowel(string str)\r\n",
    "{\r\n",
    "    return str.Replace(\"a\", \"\").Replace(\"e\", \"\").Replace(\"i\", \"\").Replace(\"o\", \"\").Replace(\"u\", \"\").Replace(\"A\", \"\").Replace(\"E\", \"\").Replace(\"I\", \"\").Replace(\"O\", \"\").Replace(\"U\", \"\");\r\n",
    "}\r\n",
    "\r\n",
    "string s = \"This website is for losers LOL!\";\r\n",
    "Console.WriteLine($\"String: {s}. No vowels: {Disemvowel(s)}\");\r\n"
   ],
   "outputs": [],
   "metadata": {
    "dotnet_interactive": {
     "language": "csharp"
    }
   }
  },
  {
   "cell_type": "code",
   "execution_count": null,
   "source": [
    "using System;\r\n",
    "using System.Collections.Generic;\r\n",
    "using System.Linq;\r\n",
    "using NUnit.Framework;\r\n",
    "\r\n",
    "public class Kata\r\n",
    "{\r\n",
    "    public static int[] CountPositivesSumNegatives(int[] input)\r\n",
    "    {\r\n",
    "        return null; //return an array with count of positives and sum of negatives\r\n",
    "    }\r\n",
    "\r\n",
    "    int[] expectedResult = new int[] {10, -65};\r\n",
    "    \r\n",
    "        Assert.AreEqual(expectedResult, Kata.CountPositivesSumNegatives(new[] {1, 2, 3, 4, 5, 6, 7, 8, 9, 10, -11, -12, -13, -14, -15}));\r\n",
    "    }\r\n",
    "}\r\n",
    "\r\n"
   ],
   "outputs": [],
   "metadata": {
    "dotnet_interactive": {
     "language": "csharp"
    }
   }
  },
  {
   "cell_type": "code",
   "execution_count": null,
   "source": [
    "//https://www.codewars.com/kata/589b81791491932da40000a3/train/csharp\r\n",
    "using System;\r\n",
    "using System.Linq;\r\n",
    "using System.Text.RegularExpressions;\r\n",
    "\r\n",
    "public class Kata\r\n",
    "{\r\n",
    "  public static int CountRestAfterRmF(string mask, List<string> files)\r\n",
    "  {\r\n",
    "    //var regexPattern = \"^\" + mask.Replace(\".\", \"\\\\.\").Replace(\"?\", \".?\").Replace(\"*\", \".*\") + \"$\";\r\n",
    "\r\n",
    "    //Console.WriteLine($\"Mask: [{mask}]. RegexPattern: [{regexPattern}]. Files: [{string.Join(\"|\", files)}]\");\r\n",
    "\r\n",
    "    var regexPattern = ConvertMaskToRegexPattern(mask);\r\n",
    "    \r\n",
    "    Regex rgx = new Regex(regexPattern);\r\n",
    "\r\n",
    "    int count2 = files.Count(f => !rgx.IsMatch(f));\r\n",
    "\r\n",
    "    int count = 0;\r\n",
    "    foreach(var file in files)\r\n",
    "    {\r\n",
    "        if (!rgx.IsMatch (file))\r\n",
    "        {\r\n",
    "            count++;\r\n",
    "        }\r\n",
    "        else\r\n",
    "        {\r\n",
    "            Console.WriteLine($\"Matched: {file}\");\r\n",
    "        }\r\n",
    "    }\r\n",
    "    return count2;\r\n",
    "  }\r\n",
    "\r\n",
    "  private static string ConvertMaskToRegexPattern(string mask) => \"^\" + mask.Replace(\".\", \"\\\\.\").Replace(\"?\", \".?\").Replace(\"*\", \".*\") + \"$\";\r\n",
    "}\r\n",
    "\r\n",
    "string mask = \"proj\";\r\n",
    "\r\n",
    "List<string> files = new List<string> { \"File4.c\",\".git\",\"default.css\",\"File10.c\",\"File3.c\",\"photo2.jpg\",\"NewApp.csproj\",\"File4\",\"File2.c\",\"App1TemporaryKey.pfx\",\"File7.cpp\",\"Code4.cs\",\"File14.txt\",\"App.config\",\"Square.png\",\"package.appxmanifest\",\"File13.cpp\",\"5.ext\",\"File5.txt\",\".temp\",\"index.html\",\"File6.txt\",\"File6\",\"File12.txt\",\"bin\",\"File2\",\"App1.jsproj.user\",\"File10\",\"photos\",\"File14.m\",\"File10.m\",\"SplashScree.png\",\"324dlolxcv.cpp\",\"File5\",\"File13.c\" };\r\n",
    "\r\n",
    "Console.WriteLine($\"Expected: 35. Actual: {Kata.CountRestAfterRmF(mask, files)}\");\r\n",
    "\r\n",
    "mask = \"pdb\";\r\n",
    "\r\n",
    "files = new List<string> { \"2.ext\",\"CurrentSetting.vssetting\",\"Square.png\",\"obj\",\"File11.c\",\"File8\",\"Documents\",\"10.ext\",\"File6.txt\",\"File11.txt\",\"NewApp.exe\",\"File10.cpp\",\"Images\",\"Program.cs\",\"File14\",\"proj.suo\",\"App1.jsproj\",\"File14.txt\",\"4.ext\",\"File13.m\",\"index.html\",\"photo3.png\",\"File12.cpp\",\"App1.jsproj.user\",\"File10.m\",\"photo2.jpg\",\"123scxx.c\",\"NewApp.pdb\",\"photo1.jpg\",\"8.ext\",\"File2.m\",\"seqwxcgg.h\",\"photos\",\"File9\",\"324dlolxcv.cpp\",\"File7.txt\",\"E123.cache\",\"File6\",\"File2.txt\",\"File14.c\",\"File13.txt\",\"Wide.png\",\"Code4.cs\",\"File5.c\",\"File1.m\",\"File14.cpp\",\"package.appxmanifest\",\"File2\" };\r\n",
    "\r\n",
    "Console.WriteLine($\"Expected: 48. Actual: {Kata.CountRestAfterRmF(mask, files)}\");\r\n",
    "\r\n",
    "mask = \"?a*\";\r\n",
    "\r\n",
    "files = new List<string> { \"5\",\"a\",\"mama.jpg\",\"ma\",\"aa\",\"bb\" };\r\n",
    "\r\n",
    "Console.WriteLine($\"Expected: 2. Actual: {Kata.CountRestAfterRmF(mask, files)}\");\r\n",
    "\r\n"
   ],
   "outputs": [
    {
     "output_type": "stream",
     "name": "stdout",
     "text": [
      "Mask: [proj]. RegexPattern: [^proj$]. Files: [File4.c|.git|default.css|File10.c|File3.c|photo2.jpg|NewApp.csproj|File4|File2.c|App1TemporaryKey.pfx|File7.cpp|Code4.cs|File14.txt|App.config|Square.png|package.appxmanifest|File13.cpp|5.ext|File5.txt|.temp|index.html|File6.txt|File6|File12.txt|bin|File2|App1.jsproj.user|File10|photos|File14.m|File10.m|SplashScree.png|324dlolxcv.cpp|File5|File13.c]\r\n",
      "Expected: 35. Actual: 35\r\n",
      "Mask: [pdb]. RegexPattern: [^pdb$]. Files: [2.ext|CurrentSetting.vssetting|Square.png|obj|File11.c|File8|Documents|10.ext|File6.txt|File11.txt|NewApp.exe|File10.cpp|Images|Program.cs|File14|proj.suo|App1.jsproj|File14.txt|4.ext|File13.m|index.html|photo3.png|File12.cpp|App1.jsproj.user|File10.m|photo2.jpg|123scxx.c|NewApp.pdb|photo1.jpg|8.ext|File2.m|seqwxcgg.h|photos|File9|324dlolxcv.cpp|File7.txt|E123.cache|File6|File2.txt|File14.c|File13.txt|Wide.png|Code4.cs|File5.c|File1.m|File14.cpp|package.appxmanifest|File2]\r\n",
      "Expected: 48. Actual: 48\r\n",
      "Mask: [?a*]. RegexPattern: [^.?a.*$]. Files: [5|a|mama.jpg|ma|aa|bb]\r\n",
      "Matched: a\r\n",
      "Matched: mama.jpg\r\n",
      "Matched: ma\r\n",
      "Matched: aa\r\n",
      "Expected: 2. Actual: 2\r\n"
     ]
    }
   ],
   "metadata": {
    "dotnet_interactive": {
     "language": "csharp"
    }
   }
  },
  {
   "cell_type": "code",
   "execution_count": null,
   "source": [
    "using System;\r\n",
    "using System.Linq;\r\n",
    "using System.Text.RegularExpressions;\r\n",
    "\r\n",
    "Console.WriteLine($\"Is Match: {Regex.IsMatch(\"abc\", \"ab\\\\w*$\")}\");"
   ],
   "outputs": [
    {
     "output_type": "stream",
     "name": "stdout",
     "text": [
      "Is Match: True\r\n"
     ]
    }
   ],
   "metadata": {
    "dotnet_interactive": {
     "language": "csharp"
    }
   }
  }
 ],
 "nbformat": 4,
 "nbformat_minor": 2
}